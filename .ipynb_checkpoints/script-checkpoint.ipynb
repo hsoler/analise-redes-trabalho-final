{
 "cells": [
  {
   "cell_type": "code",
   "execution_count": 103,
   "id": "ebef4a53-49a9-4327-82ca-eb7a007c8c40",
   "metadata": {},
   "outputs": [],
   "source": [
    "import pandas as pd"
   ]
  },
  {
   "cell_type": "code",
   "execution_count": 104,
   "id": "8027bb91-08db-47c1-8b90-74e6510506fd",
   "metadata": {},
   "outputs": [],
   "source": [
    "def getauthors(mytext):\n",
    "    authors = set()\n",
    "    for line in mytext:\n",
    "        if len(line):\n",
    "            if line[0].isalpha():\n",
    "                comma_pos = line.find(\",\")\n",
    "                authors.add(line[0:comma_pos])\n",
    "    return authors"
   ]
  },
  {
   "cell_type": "code",
   "execution_count": 105,
   "id": "8a89ab44-a639-4532-869c-4bf110ee089c",
   "metadata": {},
   "outputs": [],
   "source": [
    "def getmodules(mytext):\n",
    "    modules = set()\n",
    "    for line in mytext:\n",
    "        if len(line):\n",
    "            if line[0].isnumeric() or line[0] == \"-\":\n",
    "                first_tab = line.find(\"\\t\")\n",
    "                second_tab = line.find(\"\\t\", first_tab + 1)\n",
    "                modules.add(line[second_tab + 1:])\n",
    "    return modules"
   ]
  },
  {
   "cell_type": "code",
   "execution_count": 106,
   "id": "2cdae1f9-a456-4e79-b4e7-a27fe7e04acc",
   "metadata": {},
   "outputs": [],
   "source": [
    "def getmatrix(authors, modules):\n",
    "    matrix = dict()\n",
    "    for a in authors:\n",
    "        matrix[a] = dict()\n",
    "        for m in modules:\n",
    "            matrix[a][m] = 0\n",
    "    return matrix"
   ]
  },
  {
   "cell_type": "code",
   "execution_count": 107,
   "id": "716f3413-3f2d-4b39-a025-6db6848648bb",
   "metadata": {},
   "outputs": [],
   "source": [
    "def insertcommitstats(mytext, matrix):\n",
    "    commitlines = list()\n",
    "    for (i, line) in enumerate(mytext):\n",
    "        if len(line):\n",
    "            if line[0].isalpha():\n",
    "                commitlines.append(i)\n",
    "    endlines = list()\n",
    "    for cl in commitlines[1:]:\n",
    "        endlines.append(cl - 1)\n",
    "    endlines.append(len(mytext))\n",
    "    zipped_commits = list(zip(commitlines,endlines))\n",
    "    for i in range(len(commitlines)):\n",
    "        first_line = mytext[commitlines[i]]\n",
    "        author_name = first_line[:first_line.find(\",\")]\n",
    "        for j in range((commitlines[i] + 1),endlines[i]):\n",
    "            first_tab = mytext[j].find(\"\\t\")\n",
    "            second_tab = mytext[j].find(\"\\t\", first_tab + 1)\n",
    "            if mytext[j][0] == \"-\":\n",
    "                n_added = 0\n",
    "                n_removed = 0\n",
    "            else:\n",
    "                n_added = int(mytext[j][:first_tab])\n",
    "                n_removed = int(mytext[j][first_tab + 1:second_tab])\n",
    "            module_name = mytext[j][second_tab + 1:]\n",
    "            matrix[author_name][module_name] += n_added\n",
    "            matrix[author_name][module_name] += n_removed"
   ]
  },
  {
   "cell_type": "code",
   "execution_count": 108,
   "id": "8e8430f1-b497-4429-9050-dd2d3a72c8a5",
   "metadata": {},
   "outputs": [],
   "source": [
    "myfilepath = \"myquery\"\n",
    "myfile = open(myfilepath)\n",
    "mytext = [line for line in myfile]\n",
    "myauthors = getauthors(mytext)\n",
    "mymodules = getmodules(mytext)\n",
    "mymatrix = getmatrix(myauthors, mymodules)\n",
    "mymatrix_cp = mymatrix.copy()\n",
    "insertcommitstats(mytext, mymatrix_cp)"
   ]
  },
  {
   "cell_type": "code",
   "execution_count": 109,
   "id": "3221367c-cb07-4004-a9a9-8c1620bfa47d",
   "metadata": {},
   "outputs": [],
   "source": [
    "mydf = pd.DataFrame(mymatrix_cp)"
   ]
  },
  {
   "cell_type": "code",
   "execution_count": 110,
   "id": "5ce89ff0-5f00-4253-a9d4-881dc01187bd",
   "metadata": {},
   "outputs": [],
   "source": [
    "mydf.to_csv(\"mycsv.csv\")"
   ]
  },
  {
   "cell_type": "code",
   "execution_count": null,
   "id": "1ec6d224-df74-43c4-a7a2-56b23ec5e60c",
   "metadata": {},
   "outputs": [],
   "source": []
  }
 ],
 "metadata": {
  "kernelspec": {
   "display_name": "Python 3 (ipykernel)",
   "language": "python",
   "name": "python3"
  },
  "language_info": {
   "codemirror_mode": {
    "name": "ipython",
    "version": 3
   },
   "file_extension": ".py",
   "mimetype": "text/x-python",
   "name": "python",
   "nbconvert_exporter": "python",
   "pygments_lexer": "ipython3",
   "version": "3.10.12"
  }
 },
 "nbformat": 4,
 "nbformat_minor": 5
}
